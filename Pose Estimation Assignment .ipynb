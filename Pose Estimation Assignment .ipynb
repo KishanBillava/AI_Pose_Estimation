{
 "cells": [
  {
   "cell_type": "code",
   "execution_count": 7,
   "id": "e2773bc8",
   "metadata": {},
   "outputs": [],
   "source": [
    "# https://google.github.io/mediapipe/"
   ]
  },
  {
   "cell_type": "code",
   "execution_count": 2,
   "id": "12b493b0",
   "metadata": {},
   "outputs": [],
   "source": [
    "import cv2 \n",
    "import mediapipe as mp\n",
    "import numpy as np\n",
    "#\n",
    "mp_drawing = mp.solutions.drawing_utils\n",
    "mp_pose = mp.solutions.pose"
   ]
  },
  {
   "cell_type": "code",
   "execution_count": 6,
   "id": "c86309cb",
   "metadata": {},
   "outputs": [],
   "source": [
    "# video feed \n",
    "cap = cv2.VideoCapture(2)\n",
    "while cap.isOpened():\n",
    "    ret, frame = cap.read()\n",
    "    cv2.imshow('Mediapipe Feed', frame)\n",
    "    \n",
    "    if cv2.waitKey(10) & 0xFF == ord('q'):\n",
    "        break\n",
    "\n",
    "cap.release()\n",
    "cv2.destroyAllWindows()"
   ]
  },
  {
   "cell_type": "markdown",
   "id": "2df2f64e",
   "metadata": {},
   "source": [
    "## Make Detections"
   ]
  },
  {
   "cell_type": "code",
   "execution_count": 10,
   "id": "19edbe7b",
   "metadata": {},
   "outputs": [],
   "source": [
    "# \n",
    "cap = cv2.VideoCapture(2)\n",
    "# setup mediapipe instance \n",
    "with mp_pose.Pose(min_detection_confidence=0.5, min_tracking_confidence=0.5 ) as pose:\n",
    "    while cap.isOpened():\n",
    "        ret, frame = cap.read()\n",
    "        \n",
    "        # recolor image to rgb\n",
    "        image = cv2.cvtColor(frame, cv2.COLOR_BGR2RGB)\n",
    "        image.flags.writeable = False\n",
    "        # make detection\n",
    "        results = pose.process(image)\n",
    "        image.flags.writeable = True\n",
    "        # recolor image to bgr\n",
    "        image = cv2.cvtColor(image,cv2.COLOR_RGB2BGR)\n",
    "        \n",
    "        # render detections\n",
    "        mp_drawing.draw_landmarks(image, results.pose_landmarks,mp_pose.POSE_CONNECTIONS,\n",
    "                                  mp_drawing.DrawingSpec(color=(245,117,66),thickness=2, circle_radius=2), \n",
    "                                  mp_drawing.DrawingSpec(color=(245,66,230),thickness=2, circle_radius=2)\n",
    "                                     )\n",
    "        \n",
    "        cv2.imshow('Mediapipe Feed', image)\n",
    "\n",
    "        if cv2.waitKey(10) & 0xFF == ord('q'):\n",
    "            break\n",
    "\n",
    "    cap.release()\n",
    "    cv2.destroyAllWindows()"
   ]
  },
  {
   "cell_type": "code",
   "execution_count": 25,
   "id": "b16929dd",
   "metadata": {},
   "outputs": [
    {
     "name": "stdout",
     "output_type": "stream",
     "text": [
      "/bin/bash: -c: line 0: syntax error near unexpected token `pose_tracking_full_body_landmarks.png'\r\n",
      "/bin/bash: -c: line 0: `[pose](pose_tracking_full_body_landmarks.png)'\r\n"
     ]
    }
   ],
   "source": [
    "from IPython.display import Image\n",
    "Image(url= \"images/no_regrets_cat.jpg\", width=400, height=400)"
   ]
  },
  {
   "cell_type": "markdown",
   "id": "70fa2d0d",
   "metadata": {},
   "source": [
    "<img scr=\"pose_tracking_full_body_landmarks.png\">"
   ]
  },
  {
   "cell_type": "code",
   "execution_count": null,
   "id": "89f3d7c4",
   "metadata": {},
   "outputs": [],
   "source": []
  }
 ],
 "metadata": {
  "kernelspec": {
   "display_name": "Python 3 (ipykernel)",
   "language": "python",
   "name": "python3"
  },
  "language_info": {
   "codemirror_mode": {
    "name": "ipython",
    "version": 3
   },
   "file_extension": ".py",
   "mimetype": "text/x-python",
   "name": "python",
   "nbconvert_exporter": "python",
   "pygments_lexer": "ipython3",
   "version": "3.9.6"
  }
 },
 "nbformat": 4,
 "nbformat_minor": 5
}
